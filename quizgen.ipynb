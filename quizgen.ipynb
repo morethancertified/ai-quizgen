{
 "cells": [
  {
   "cell_type": "markdown",
   "metadata": {},
   "source": [
    "# AI QuizGen 2025"
   ]
  },
  {
   "cell_type": "markdown",
   "metadata": {},
   "source": [
    "### Instructions\n",
    "\n",
    "1. Set `OPENAI_API_KEY` as an environment variable using your method of choice. If using within GitHub Codespaces, you can use the GitHub Codespace Secrets.\n",
    "2. Install dependencies. If a kernel is not available, you may need to install a Jupyter Notebook Kernel.\n",
    "3. Initialize each function by inspecting them and running them individually. (ctrl+enter is the shortcut to move through them.)\n",
    "4. In the final cell, define the variables, uncomment the `convert_to_mp3` function if needed, and run the cell.\n",
    "5. Your questions will be available in `questions/<filename>.json`"
   ]
  },
  {
   "cell_type": "markdown",
   "metadata": {},
   "source": [
    "### OPENAI_API_KEY\n",
    "If not set in a secrets manager, export as an environment variable in the terminal using `export OPENAI_API_KEY=\"<your-key-here>\"`"
   ]
  },
  {
   "cell_type": "code",
   "execution_count": null,
   "metadata": {},
   "outputs": [],
   "source": [
    "import os\n",
    "os.getenv('OPENAI_API_KEY')"
   ]
  },
  {
   "cell_type": "markdown",
   "metadata": {},
   "source": [
    "### Dependencies\n",
    "Uncomment and run to install"
   ]
  },
  {
   "cell_type": "code",
   "execution_count": null,
   "metadata": {},
   "outputs": [],
   "source": [
    "# !pip install openai\n",
    "# !pip install xlsxwriter\n",
    "# !pip install openpyxl\n",
    "# !pip install ffmpeg\n",
    "# !pip install ffmpeg-python"
   ]
  },
  {
   "cell_type": "markdown",
   "metadata": {},
   "source": [
    "### Convert to Mp3\n",
    "Convert Mp4 to Mp3 if needed"
   ]
  },
  {
   "cell_type": "code",
   "execution_count": null,
   "metadata": {},
   "outputs": [],
   "source": [
    "import ffmpeg\n",
    "\n",
    "def convert_to_mp3(input_file, output_file):\n",
    "  try:\n",
    "      ffmpeg.input(input_file).output(output_file, codec='libmp3lame', bitrate='128k').run(overwrite_output=True)\n",
    "      print(f\"Converted {input_file} to {output_file}\")\n",
    "  except ffmpeg.Error as e:\n",
    "      print(f\"Error: {e.stderr.decode()}\")"
   ]
  },
  {
   "cell_type": "markdown",
   "metadata": {},
   "source": [
    "### Create Transcript\n",
    "Provide the filename of the mp3 and the directory in which it's found"
   ]
  },
  {
   "cell_type": "code",
   "execution_count": 5,
   "metadata": {},
   "outputs": [],
   "source": [
    "from openai import OpenAI\n",
    "client = OpenAI()\n",
    "\n",
    "def create_transcript_file(filename, content_dir, transcripts_dir):\n",
    "    video_file = open(f\"{content_dir}/{filename}.mp3\", \"rb\")\n",
    "    response = client.audio.translations.create(\n",
    "        model=\"whisper-1\", \n",
    "        file=video_file, \n",
    "        response_format=\"text\"\n",
    "    )\n",
    "    with open(f\"{transcripts_dir}/{filename}.txt\", \"w\") as f:\n",
    "        f.write(response)"
   ]
  },
  {
   "cell_type": "markdown",
   "metadata": {},
   "source": [
    "### Generate Questions\n",
    "Use OpenAI Structured Outputs to generate questions based on a JSON Schema </br>\n",
    "https://platform.openai.com/docs/guides/structured-outputs"
   ]
  },
  {
   "cell_type": "code",
   "execution_count": null,
   "metadata": {},
   "outputs": [],
   "source": [
    "from pydantic import BaseModel, Field\n",
    "from typing import Union, List\n",
    "from openai import OpenAI\n",
    "client = OpenAI()\n",
    "\n",
    "class QuestionSchema(BaseModel):\n",
    "    Group: str = Field(..., description=\"The video from which the question is derived.\")\n",
    "    Type: str = Field(..., description=\"The type of question, e.g., TMC (Multiple Choice), TTF (True/False), TMCMA (Multiple Answers).\")\n",
    "    Question: str = Field(..., description=\"The text of the question.\")\n",
    "    CorAns: str = Field(..., description=\"The correct answer(s) represented by the answer number(s), comma-separated if multiple.\")\n",
    "    Answer1: str = Field(..., description=\"First answer choice.\")\n",
    "    Answer2: str = Field(..., description=\"Second answer choice.\")\n",
    "    Answer3: str = Field(..., description=\"Third answer choice.\")\n",
    "    Answer4: str = Field(..., description=\"Fourth answer choice.\")\n",
    "    CorrectExplanation: Union[str, None] = Field(None, description=\"Explanation provided when the correct answer is selected, can be null.\")\n",
    "    IncorrectExplanation: Union[str, None] = Field(None, description=\"Explanation provided when an incorrect answer is selected, can be null.\")\n",
    "\n",
    "class QuestionListSchema(BaseModel):\n",
    "    questions: List[QuestionSchema]\n",
    "\n",
    "def generate_quiz(filename, transcripts_dir, questions_dir):\n",
    "    if not filename:\n",
    "        raise ValueError(\"Input data is empty. Please provide valid data for quiz generation.\")\n",
    "\n",
    "    input_file = f\"{transcripts_dir}/{filename}.txt\"\n",
    "    output_file = f\"{questions_dir}/{filename}.json\"\n",
    "    client = OpenAI()\n",
    "    with open(input_file, \"r\") as file:\n",
    "        data = file.read()\n",
    "\n",
    "    try:\n",
    "        print(filename)\n",
    "        response = client.beta.chat.completions.parse(\n",
    "            model=\"gpt-4o\",\n",
    "            messages=[\n",
    "                {\"role\": \"user\", \"content\": f\"Create 3 multiple-choice questions based on the story here: {data}\"}\n",
    "            ],\n",
    "            response_format=QuestionListSchema,\n",
    "        )\n",
    "\n",
    "        # Write output to file\n",
    "        with open(output_file, \"w\") as quiz_file:\n",
    "            quiz_file.write(response.choices[0].message.content)\n",
    "\n",
    "        print(f\"Quiz successfully generated and saved to: {output_file}\")\n",
    "\n",
    "    except ValueError as ve:\n",
    "        print(f\"Input Error: {ve}\")\n",
    "\n",
    "    except FileNotFoundError:\n",
    "        print(f\"Error: The specified output path '{output_file}' is invalid.\")\n",
    "\n",
    "    except OSError as e:\n",
    "        print(f\"File system error: {e}\")\n",
    "\n",
    "    except Exception as e:\n",
    "        print(f\"An unexpected error occurred: {e}\")  "
   ]
  },
  {
   "cell_type": "markdown",
   "metadata": {},
   "source": [
    "### Run All the Things!\n",
    "Define vars and run functions here!"
   ]
  },
  {
   "cell_type": "code",
   "execution_count": 9,
   "metadata": {},
   "outputs": [
    {
     "name": "stdout",
     "output_type": "stream",
     "text": [
      "japanese\n",
      "Quiz successfully generated and saved to: questions/japanese.json\n"
     ]
    }
   ],
   "source": [
    "filename = \"japanese\" # the naked filename of the .mp3 file. Extensions can be modified in their respective functions.\n",
    "transcripts_dir = \"transcripts\"\n",
    "questions_dir = \"questions\"\n",
    "content_dir = \"content\"\n",
    "# convert_to_mp3(f\"{content_dir}/{filename}.mp4\", f\"{content_dir}/{filename}.mp3\") # If using an mp4 file, this will convert it. will create \n",
    "create_transcript_file(filename, content_dir, transcripts_dir) # provide filename and the directory in which it resides. Will create <filename>.txt in the transcripts directory.\n",
    "generate_quiz(filename, transcripts_dir, questions_dir) # will generate the quiz and create <filename.json> in the \"questions\" directory."
   ]
  }
 ],
 "metadata": {
  "kernelspec": {
   "display_name": "Python 3",
   "language": "python",
   "name": "python3"
  },
  "language_info": {
   "codemirror_mode": {
    "name": "ipython",
    "version": 3
   },
   "file_extension": ".py",
   "mimetype": "text/x-python",
   "name": "python",
   "nbconvert_exporter": "python",
   "pygments_lexer": "ipython3",
   "version": "3.12.1"
  }
 },
 "nbformat": 4,
 "nbformat_minor": 4
}
